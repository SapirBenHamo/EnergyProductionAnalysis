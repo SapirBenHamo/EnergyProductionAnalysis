{
  "nbformat": 4,
  "nbformat_minor": 0,
  "metadata": {
    "colab": {
      "provenance": [],
      "collapsed_sections": [],
      "authorship_tag": "ABX9TyPetKvwZqY/n84+C8kwomo4",
      "include_colab_link": true
    },
    "kernelspec": {
      "name": "python3",
      "display_name": "Python 3"
    },
    "language_info": {
      "name": "python"
    }
  },
  "cells": [
    {
      "cell_type": "markdown",
      "metadata": {
        "id": "view-in-github",
        "colab_type": "text"
      },
      "source": [
        "<a href=\"https://colab.research.google.com/github/SapirBenHamo/EnergyProduction/blob/main/Energy%20_analysis_With_Python.ipynb\" target=\"_parent\"><img src=\"https://colab.research.google.com/assets/colab-badge.svg\" alt=\"Open In Colab\"/></a>"
      ]
    },
    {
      "cell_type": "code",
      "source": [
        "import pandas as pd\n",
        "import requests\n",
        "from bs4 import BeautifulSoup, Comment\n",
        "import numpy as np\n",
        "import seaborn as sns\n",
        "import matplotlib.pyplot as plt\n",
        "!pip install --upgrade matplotlib\n"
      ],
      "metadata": {
        "colab": {
          "base_uri": "https://localhost:8080/"
        },
        "id": "A5rOf9NTYkJp",
        "outputId": "e9dae80d-20ae-4b0a-f3db-4c55a6b1d420"
      },
      "execution_count": null,
      "outputs": [
        {
          "output_type": "stream",
          "name": "stdout",
          "text": [
            "Looking in indexes: https://pypi.org/simple, https://us-python.pkg.dev/colab-wheels/public/simple/\n",
            "Requirement already satisfied: matplotlib in /usr/local/lib/python3.7/dist-packages (3.5.2)\n",
            "Requirement already satisfied: pyparsing>=2.2.1 in /usr/local/lib/python3.7/dist-packages (from matplotlib) (3.0.9)\n",
            "Requirement already satisfied: pillow>=6.2.0 in /usr/local/lib/python3.7/dist-packages (from matplotlib) (7.1.2)\n",
            "Requirement already satisfied: numpy>=1.17 in /usr/local/lib/python3.7/dist-packages (from matplotlib) (1.21.6)\n",
            "Requirement already satisfied: python-dateutil>=2.7 in /usr/local/lib/python3.7/dist-packages (from matplotlib) (2.8.2)\n",
            "Requirement already satisfied: packaging>=20.0 in /usr/local/lib/python3.7/dist-packages (from matplotlib) (21.3)\n",
            "Requirement already satisfied: kiwisolver>=1.0.1 in /usr/local/lib/python3.7/dist-packages (from matplotlib) (1.4.4)\n",
            "Requirement already satisfied: cycler>=0.10 in /usr/local/lib/python3.7/dist-packages (from matplotlib) (0.11.0)\n",
            "Requirement already satisfied: fonttools>=4.22.0 in /usr/local/lib/python3.7/dist-packages (from matplotlib) (4.34.4)\n",
            "Requirement already satisfied: typing-extensions in /usr/local/lib/python3.7/dist-packages (from kiwisolver>=1.0.1->matplotlib) (4.1.1)\n",
            "Requirement already satisfied: six>=1.5 in /usr/local/lib/python3.7/dist-packages (from python-dateutil>=2.7->matplotlib) (1.15.0)\n"
          ]
        }
      ]
    },
    {
      "cell_type": "code",
      "source": [],
      "metadata": {
        "id": "I9e_YYPEASgI"
      },
      "execution_count": null,
      "outputs": []
    },
    {
      "cell_type": "code",
      "source": [
        "\n",
        "url = 'https://www.worldometers.info/gdp/gdp-per-capita/'\n",
        "response = requests.get(url)\n",
        "\n",
        "tables = pd.read_html(response.text, header=0)\n",
        "\n",
        "# Get the tables within the Comments\n",
        "soup = BeautifulSoup(response.text, 'html.parser')\n",
        "comments = soup.find_all(string=lambda text: isinstance(text, Comment))\n",
        "\n",
        "for each in comments:\n",
        "    if 'table' in str(each):\n",
        "        try:\n",
        "            table = pd.read_html(str(each), header=1)[0]\n",
        "            table = table[table['Rk'].ne('Rk')].reset_index(drop=True)\n",
        "            tables.append(table)\n",
        "        except:\n",
        "            continue\n",
        "\n"
      ],
      "metadata": {
        "id": "nl0tuPCzBM6w"
      },
      "execution_count": null,
      "outputs": []
    },
    {
      "cell_type": "code",
      "source": [
        "DC = pd.DataFrame(tables[0])\n",
        "DC = DC.head(50)\n",
        "DC = DC['Country'].tolist()\n",
        "print(DC)\n",
        "\n",
        "\n"
      ],
      "metadata": {
        "colab": {
          "base_uri": "https://localhost:8080/"
        },
        "id": "XbAKnZ1eBWRt",
        "outputId": "872e1a2a-5ac1-472f-83e7-48f7dcf4b072"
      },
      "execution_count": null,
      "outputs": [
        {
          "output_type": "stream",
          "name": "stdout",
          "text": [
            "['Qatar', 'Macao', 'Luxembourg', 'Singapore', 'Brunei', 'Ireland', 'United Arab Emirates', 'Kuwait', 'Switzerland', 'San Marino', 'Norway', 'Hong Kong', 'United States', 'Iceland', 'Netherlands', 'Denmark', 'Saudi Arabia', 'Austria', 'Germany', 'Sweden', 'Australia', 'Belgium', 'Bahrain', 'Canada', 'Finland', 'United Kingdom', 'France', 'Japan', 'Oman', 'Italy', 'Malta', 'New Zealand', 'Aruba', 'Spain', 'Israel', 'South Korea', 'Czech Republic (Czechia)', 'Slovenia', 'Cyprus', 'Estonia', 'Lithuania', 'Portugal', 'Slovakia', 'Trinidad and Tobago', 'Bahamas', 'Poland', 'Malaysia', 'Seychelles', 'Hungary', 'Saint Kitts & Nevis']\n"
          ]
        }
      ]
    },
    {
      "cell_type": "markdown",
      "source": [],
      "metadata": {
        "id": "GZ84BHjWr0Ru"
      }
    },
    {
      "cell_type": "code",
      "source": [
        "\n",
        "df = pd.read_csv('Energy data_final project_0.5.csv')\n",
        "df = df[df.year >= 2008]\n",
        "df = df[df.year < 2018]\n",
        "df['renewable_electricity'] = df['renewable_electricity']*1000\n",
        "df['conventional_electricity'] = df['conventional_electricity']*1000\n",
        "df['Total_Energy'] = df['renewable_electricity'] + df['conventional_electricity']\n",
        "df['%OfRenEnergy'] = df['renewable_electricity']/ df['Total_Energy']\n",
        "df['%OfConEnergy'] = df['conventional_electricity']/ df['Total_Energy']\n",
        "df = df[df.Total_Energy > 0]\n",
        "\n",
        "def Country_segmentation(df):\n",
        "  AC = df['country']\n",
        "  if AC in DC:\n",
        "    output = 'High Level Gdp Per Capita'\n",
        "  else:\n",
        "    output = 'Low Level Gdp Per Capita'\n",
        "  return output"
      ],
      "metadata": {
        "id": "FKXh8M_5Q1Mj"
      },
      "execution_count": null,
      "outputs": []
    },
    {
      "cell_type": "code",
      "source": [
        "df = df.assign(Country_Segment = df.apply(Country_segmentation, axis=1))\n",
        "df = df[['country','Country_Segment','year','conventional_electricity','renewable_electricity','Total_Energy']]"
      ],
      "metadata": {
        "id": "RhBi4XMvPCP9"
      },
      "execution_count": null,
      "outputs": []
    },
    {
      "cell_type": "markdown",
      "source": [],
      "metadata": {
        "id": "vpQRuzVUOJfY"
      }
    },
    {
      "cell_type": "code",
      "source": [
        "df2 = df.groupby(['Country_Segment','year'])\\\n",
        ".agg(sum_con = ('conventional_electricity','sum'), \n",
        "     sum_ren = ('renewable_electricity','sum'),\n",
        "     sum_total = ('Total_Energy','sum'))\n",
        "\n",
        "df2 = df2.assign(Precentege_Of_RenewAble = df2['sum_ren'] / df2['sum_total'])\n",
        "df2 = df2.assign(ofcon = df2['sum_con'] / df2['sum_total'])\n",
        "df2=df2[['Precentege_Of_RenewAble']]*100\n",
        "df2 = df2.round(0)"
      ],
      "metadata": {
        "id": "MpDPsv8ZPTcz"
      },
      "execution_count": null,
      "outputs": []
    },
    {
      "cell_type": "code",
      "source": [
        "df2"
      ],
      "metadata": {
        "colab": {
          "base_uri": "https://localhost:8080/",
          "height": 708
        },
        "id": "SJZUAznqbuVW",
        "outputId": "65255a85-dec9-4ab7-b067-55f90c7e77b9"
      },
      "execution_count": null,
      "outputs": [
        {
          "output_type": "execute_result",
          "data": {
            "text/plain": [
              "                                Precentege_Of_RenewAble\n",
              "Country_Segment           year                         \n",
              "High Level Gdp Per Capita 2008                     20.0\n",
              "                          2009                     21.0\n",
              "                          2010                     21.0\n",
              "                          2011                     22.0\n",
              "                          2012                     23.0\n",
              "                          2013                     24.0\n",
              "                          2014                     25.0\n",
              "                          2015                     26.0\n",
              "                          2016                     27.0\n",
              "                          2017                     29.0\n",
              "Low Level Gdp Per Capita  2008                     20.0\n",
              "                          2009                     20.0\n",
              "                          2010                     20.0\n",
              "                          2011                     20.0\n",
              "                          2012                     21.0\n",
              "                          2013                     21.0\n",
              "                          2014                     22.0\n",
              "                          2015                     23.0\n",
              "                          2016                     24.0\n",
              "                          2017                     25.0"
            ],
            "text/html": [
              "\n",
              "  <div id=\"df-101c45ad-f623-4331-b440-f54b887f3e38\">\n",
              "    <div class=\"colab-df-container\">\n",
              "      <div>\n",
              "<style scoped>\n",
              "    .dataframe tbody tr th:only-of-type {\n",
              "        vertical-align: middle;\n",
              "    }\n",
              "\n",
              "    .dataframe tbody tr th {\n",
              "        vertical-align: top;\n",
              "    }\n",
              "\n",
              "    .dataframe thead th {\n",
              "        text-align: right;\n",
              "    }\n",
              "</style>\n",
              "<table border=\"1\" class=\"dataframe\">\n",
              "  <thead>\n",
              "    <tr style=\"text-align: right;\">\n",
              "      <th></th>\n",
              "      <th></th>\n",
              "      <th>Precentege_Of_RenewAble</th>\n",
              "    </tr>\n",
              "    <tr>\n",
              "      <th>Country_Segment</th>\n",
              "      <th>year</th>\n",
              "      <th></th>\n",
              "    </tr>\n",
              "  </thead>\n",
              "  <tbody>\n",
              "    <tr>\n",
              "      <th rowspan=\"10\" valign=\"top\">High Level Gdp Per Capita</th>\n",
              "      <th>2008</th>\n",
              "      <td>20.0</td>\n",
              "    </tr>\n",
              "    <tr>\n",
              "      <th>2009</th>\n",
              "      <td>21.0</td>\n",
              "    </tr>\n",
              "    <tr>\n",
              "      <th>2010</th>\n",
              "      <td>21.0</td>\n",
              "    </tr>\n",
              "    <tr>\n",
              "      <th>2011</th>\n",
              "      <td>22.0</td>\n",
              "    </tr>\n",
              "    <tr>\n",
              "      <th>2012</th>\n",
              "      <td>23.0</td>\n",
              "    </tr>\n",
              "    <tr>\n",
              "      <th>2013</th>\n",
              "      <td>24.0</td>\n",
              "    </tr>\n",
              "    <tr>\n",
              "      <th>2014</th>\n",
              "      <td>25.0</td>\n",
              "    </tr>\n",
              "    <tr>\n",
              "      <th>2015</th>\n",
              "      <td>26.0</td>\n",
              "    </tr>\n",
              "    <tr>\n",
              "      <th>2016</th>\n",
              "      <td>27.0</td>\n",
              "    </tr>\n",
              "    <tr>\n",
              "      <th>2017</th>\n",
              "      <td>29.0</td>\n",
              "    </tr>\n",
              "    <tr>\n",
              "      <th rowspan=\"10\" valign=\"top\">Low Level Gdp Per Capita</th>\n",
              "      <th>2008</th>\n",
              "      <td>20.0</td>\n",
              "    </tr>\n",
              "    <tr>\n",
              "      <th>2009</th>\n",
              "      <td>20.0</td>\n",
              "    </tr>\n",
              "    <tr>\n",
              "      <th>2010</th>\n",
              "      <td>20.0</td>\n",
              "    </tr>\n",
              "    <tr>\n",
              "      <th>2011</th>\n",
              "      <td>20.0</td>\n",
              "    </tr>\n",
              "    <tr>\n",
              "      <th>2012</th>\n",
              "      <td>21.0</td>\n",
              "    </tr>\n",
              "    <tr>\n",
              "      <th>2013</th>\n",
              "      <td>21.0</td>\n",
              "    </tr>\n",
              "    <tr>\n",
              "      <th>2014</th>\n",
              "      <td>22.0</td>\n",
              "    </tr>\n",
              "    <tr>\n",
              "      <th>2015</th>\n",
              "      <td>23.0</td>\n",
              "    </tr>\n",
              "    <tr>\n",
              "      <th>2016</th>\n",
              "      <td>24.0</td>\n",
              "    </tr>\n",
              "    <tr>\n",
              "      <th>2017</th>\n",
              "      <td>25.0</td>\n",
              "    </tr>\n",
              "  </tbody>\n",
              "</table>\n",
              "</div>\n",
              "      <button class=\"colab-df-convert\" onclick=\"convertToInteractive('df-101c45ad-f623-4331-b440-f54b887f3e38')\"\n",
              "              title=\"Convert this dataframe to an interactive table.\"\n",
              "              style=\"display:none;\">\n",
              "        \n",
              "  <svg xmlns=\"http://www.w3.org/2000/svg\" height=\"24px\"viewBox=\"0 0 24 24\"\n",
              "       width=\"24px\">\n",
              "    <path d=\"M0 0h24v24H0V0z\" fill=\"none\"/>\n",
              "    <path d=\"M18.56 5.44l.94 2.06.94-2.06 2.06-.94-2.06-.94-.94-2.06-.94 2.06-2.06.94zm-11 1L8.5 8.5l.94-2.06 2.06-.94-2.06-.94L8.5 2.5l-.94 2.06-2.06.94zm10 10l.94 2.06.94-2.06 2.06-.94-2.06-.94-.94-2.06-.94 2.06-2.06.94z\"/><path d=\"M17.41 7.96l-1.37-1.37c-.4-.4-.92-.59-1.43-.59-.52 0-1.04.2-1.43.59L10.3 9.45l-7.72 7.72c-.78.78-.78 2.05 0 2.83L4 21.41c.39.39.9.59 1.41.59.51 0 1.02-.2 1.41-.59l7.78-7.78 2.81-2.81c.8-.78.8-2.07 0-2.86zM5.41 20L4 18.59l7.72-7.72 1.47 1.35L5.41 20z\"/>\n",
              "  </svg>\n",
              "      </button>\n",
              "      \n",
              "  <style>\n",
              "    .colab-df-container {\n",
              "      display:flex;\n",
              "      flex-wrap:wrap;\n",
              "      gap: 12px;\n",
              "    }\n",
              "\n",
              "    .colab-df-convert {\n",
              "      background-color: #E8F0FE;\n",
              "      border: none;\n",
              "      border-radius: 50%;\n",
              "      cursor: pointer;\n",
              "      display: none;\n",
              "      fill: #1967D2;\n",
              "      height: 32px;\n",
              "      padding: 0 0 0 0;\n",
              "      width: 32px;\n",
              "    }\n",
              "\n",
              "    .colab-df-convert:hover {\n",
              "      background-color: #E2EBFA;\n",
              "      box-shadow: 0px 1px 2px rgba(60, 64, 67, 0.3), 0px 1px 3px 1px rgba(60, 64, 67, 0.15);\n",
              "      fill: #174EA6;\n",
              "    }\n",
              "\n",
              "    [theme=dark] .colab-df-convert {\n",
              "      background-color: #3B4455;\n",
              "      fill: #D2E3FC;\n",
              "    }\n",
              "\n",
              "    [theme=dark] .colab-df-convert:hover {\n",
              "      background-color: #434B5C;\n",
              "      box-shadow: 0px 1px 3px 1px rgba(0, 0, 0, 0.15);\n",
              "      filter: drop-shadow(0px 1px 2px rgba(0, 0, 0, 0.3));\n",
              "      fill: #FFFFFF;\n",
              "    }\n",
              "  </style>\n",
              "\n",
              "      <script>\n",
              "        const buttonEl =\n",
              "          document.querySelector('#df-101c45ad-f623-4331-b440-f54b887f3e38 button.colab-df-convert');\n",
              "        buttonEl.style.display =\n",
              "          google.colab.kernel.accessAllowed ? 'block' : 'none';\n",
              "\n",
              "        async function convertToInteractive(key) {\n",
              "          const element = document.querySelector('#df-101c45ad-f623-4331-b440-f54b887f3e38');\n",
              "          const dataTable =\n",
              "            await google.colab.kernel.invokeFunction('convertToInteractive',\n",
              "                                                     [key], {});\n",
              "          if (!dataTable) return;\n",
              "\n",
              "          const docLinkHtml = 'Like what you see? Visit the ' +\n",
              "            '<a target=\"_blank\" href=https://colab.research.google.com/notebooks/data_table.ipynb>data table notebook</a>'\n",
              "            + ' to learn more about interactive tables.';\n",
              "          element.innerHTML = '';\n",
              "          dataTable['output_type'] = 'display_data';\n",
              "          await google.colab.output.renderOutput(dataTable, element);\n",
              "          const docLink = document.createElement('div');\n",
              "          docLink.innerHTML = docLinkHtml;\n",
              "          element.appendChild(docLink);\n",
              "        }\n",
              "      </script>\n",
              "    </div>\n",
              "  </div>\n",
              "  "
            ]
          },
          "metadata": {},
          "execution_count": 21
        }
      ]
    },
    {
      "cell_type": "code",
      "source": [
        "df2.reset_index(inplace=True)\n",
        "plt.figure(figsize=(16, 6))\n",
        "ax = sns.barplot(x='year', y='Precentege_Of_RenewAble', hue='Country_Segment', data=df2)\n",
        "for container in ax.containers:\n",
        "    ax.bar_label(container)"
      ],
      "metadata": {
        "colab": {
          "base_uri": "https://localhost:8080/",
          "height": 388
        },
        "id": "UGDoIlpP5Yg0",
        "outputId": "b8d057fd-f198-411d-92de-df9ae720bfa9"
      },
      "execution_count": null,
      "outputs": [
        {
          "output_type": "display_data",
          "data": {
            "text/plain": [
              "<Figure size 1152x432 with 1 Axes>"
            ],
            "image/png": "[encoded data removed]"
          },
          "metadata": {
            "needs_background": "light"
          }
        }
      ]
    }
  ]
}